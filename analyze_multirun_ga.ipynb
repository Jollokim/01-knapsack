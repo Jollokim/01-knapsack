{
 "cells": [
  {
   "cell_type": "markdown",
   "metadata": {},
   "source": [
    "# Analyze multi run"
   ]
  },
  {
   "cell_type": "markdown",
   "metadata": {},
   "source": [
    "### Imports"
   ]
  },
  {
   "cell_type": "code",
   "execution_count": 5,
   "metadata": {},
   "outputs": [],
   "source": [
    "import pandas as pd\n",
    "import os\n",
    "import numpy as np"
   ]
  },
  {
   "cell_type": "markdown",
   "metadata": {},
   "source": [
    "### Read and create dataframes"
   ]
  },
  {
   "cell_type": "code",
   "execution_count": 6,
   "metadata": {},
   "outputs": [],
   "source": [
    "def create_dfs_for_run(dir: str) -> list[pd.DataFrame]:\n",
    "    df_lst = []\n",
    "\n",
    "    for run in os.listdir(dir):\n",
    "        df = pd.read_csv(f'{dir}\\\\{run}\\\\result.csv')\n",
    "        df = df[df.columns][1:]\n",
    "        \n",
    "        df_lst.append(df)\n",
    "\n",
    "    return df_lst\n",
    "\n",
    "in_dir = 'results\\p07_ga_r30'\n",
    "\n",
    "run_df_lst = create_dfs_for_run(in_dir)\n",
    "concat_df = pd.concat([df for df in run_df_lst])\n",
    "\n"
   ]
  },
  {
   "cell_type": "markdown",
   "metadata": {},
   "source": [
    "### Concat describe"
   ]
  },
  {
   "cell_type": "code",
   "execution_count": 7,
   "metadata": {},
   "outputs": [
    {
     "name": "stdout",
     "output_type": "stream",
     "text": [
      "         Unnamed: 0          best           avg  cycle_time(ms)\n",
      "count  70488.000000  70488.000000  70488.000000    70488.000000\n",
      "mean    2040.005334   1453.765024   1280.216067        0.373769\n",
      "std     1995.993603      3.341708     64.543035        0.510178\n",
      "min        1.000000   1362.000000    879.250000        0.000000\n",
      "25%      639.000000   1453.000000   1240.375000        0.000000\n",
      "50%     1385.000000   1455.000000   1287.250000        0.000000\n",
      "75%     2805.250000   1456.000000   1328.000000        0.997305\n",
      "max    10000.000000   1458.000000   1442.875000       11.998177\n"
     ]
    }
   ],
   "source": [
    "print(concat_df.describe())"
   ]
  },
  {
   "cell_type": "markdown",
   "metadata": {},
   "source": [
    "### Cycles to complete"
   ]
  },
  {
   "cell_type": "code",
   "execution_count": 8,
   "metadata": {},
   "outputs": [
    {
     "name": "stdout",
     "output_type": "stream",
     "text": [
      "(2349.6, 2015.793468256772, 10000)\n"
     ]
    }
   ],
   "source": [
    "def mean_std_cycles_to_complete(df_lst: list[pd.DataFrame]):\n",
    "    run_cycles = [len(df) for df in df_lst]\n",
    "\n",
    "    mean = np.mean(run_cycles)\n",
    "    std = np.std(run_cycles)\n",
    "    mx = np.max(run_cycles)\n",
    "\n",
    "    return mean, std, mx\n",
    "\n",
    "print(mean_std_cycles_to_complete(run_df_lst))"
   ]
  },
  {
   "cell_type": "code",
   "execution_count": 9,
   "metadata": {},
   "outputs": [
    {
     "name": "stdout",
     "output_type": "stream",
     "text": [
      "2231\n",
      "1002\n",
      "1500\n",
      "1288\n",
      "4081\n",
      "1119\n",
      "1381\n",
      "2674\n",
      "1733\n",
      "1292\n",
      "5613\n",
      "2068\n",
      "1646\n",
      "2765\n",
      "4896\n",
      "2054\n",
      "4635\n",
      "638\n",
      "2622\n",
      "4495\n",
      "1775\n",
      "793\n",
      "5\n",
      "1552\n",
      "319\n",
      "10000\n",
      "1035\n",
      "3537\n",
      "1680\n",
      "59\n"
     ]
    }
   ],
   "source": [
    "for df in run_df_lst:\n",
    "    print(len(df))"
   ]
  },
  {
   "cell_type": "markdown",
   "metadata": {},
   "source": []
  }
 ],
 "metadata": {
  "kernelspec": {
   "display_name": "venv",
   "language": "python",
   "name": "python3"
  },
  "language_info": {
   "codemirror_mode": {
    "name": "ipython",
    "version": 3
   },
   "file_extension": ".py",
   "mimetype": "text/x-python",
   "name": "python",
   "nbconvert_exporter": "python",
   "pygments_lexer": "ipython3",
   "version": "3.11.5"
  }
 },
 "nbformat": 4,
 "nbformat_minor": 2
}

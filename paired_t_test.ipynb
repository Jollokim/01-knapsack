{
 "cells": [
  {
   "cell_type": "markdown",
   "metadata": {},
   "source": [
    "# Paired T test of experimental time and combinations"
   ]
  },
  {
   "cell_type": "markdown",
   "metadata": {},
   "source": [
    "### Imports"
   ]
  },
  {
   "cell_type": "code",
   "execution_count": 4,
   "metadata": {},
   "outputs": [],
   "source": [
    "import numpy as np\n",
    "import pandas as pd\n",
    "import scipy.stats as stats\n",
    "import os"
   ]
  },
  {
   "cell_type": "markdown",
   "metadata": {},
   "source": [
    "### Loading problems"
   ]
  },
  {
   "cell_type": "code",
   "execution_count": 5,
   "metadata": {},
   "outputs": [
    {
     "name": "stdout",
     "output_type": "stream",
     "text": [
      "30\n",
      "30\n"
     ]
    }
   ],
   "source": [
    "def create_dfs_for_run(dir: str) -> list[pd.DataFrame]:\n",
    "    df_lst = []\n",
    "\n",
    "    for run in os.listdir(dir):\n",
    "        df = pd.read_csv(f'{dir}\\\\{run}\\\\result.csv')\n",
    "        df = df[df.columns][1:]\n",
    "        \n",
    "        df_lst.append(df)\n",
    "\n",
    "    return df_lst\n",
    "\n",
    "in_dir_ga = 'results\\p07_ga_r30'\n",
    "in_dir_aco = 'results\\p07_aco_r30'\n",
    "\n",
    "ga_df_lst = create_dfs_for_run(in_dir_ga)\n",
    "aco_df_lst = create_dfs_for_run(in_dir_aco)\n",
    "\n",
    "print(len(ga_df_lst))\n",
    "print(len(aco_df_lst))\n"
   ]
  },
  {
   "cell_type": "markdown",
   "metadata": {},
   "source": [
    "### Combinations T-testing (ACO uses less number of combinations)"
   ]
  },
  {
   "cell_type": "code",
   "execution_count": 6,
   "metadata": {},
   "outputs": [
    {
     "name": "stdout",
     "output_type": "stream",
     "text": [
      "[17848, 8016, 12000, 10304, 32648, 8952, 11048, 21392, 13864, 10336, 44904, 16544, 13168, 22120, 39168, 16432, 37080, 5104, 20976, 35960, 14200, 6344, 40, 12416, 2552, 80000, 8280, 28296, 13440, 472]\n",
      "[1104, 1832, 3080, 8536, 4776, 5168, 400, 19184, 248, 7576, 3048, 4496, 192, 59280, 1592, 512, 7504, 1544, 24352, 4368, 2472, 10240, 3472, 384, 7136, 5496, 8752, 8424, 368, 752]\n"
     ]
    },
    {
     "data": {
      "text/plain": [
       "TtestResult(statistic=-3.3996436995021275, pvalue=0.0009911726424506092, df=29)"
      ]
     },
     "execution_count": 6,
     "metadata": {},
     "output_type": "execute_result"
    }
   ],
   "source": [
    "population_size = 8\n",
    "\n",
    "ga_n_comb = [population_size*len(df) for df in ga_df_lst]\n",
    "aco_n_comb = [population_size*len(df) for df in aco_df_lst]\n",
    "\n",
    "print(ga_n_comb)\n",
    "print(aco_n_comb)\n",
    "\n",
    "stats.ttest_rel(aco_n_comb, ga_n_comb, alternative='less')"
   ]
  },
  {
   "cell_type": "markdown",
   "metadata": {},
   "source": [
    "### Time to complete (GA faster than ACO to complete)"
   ]
  },
  {
   "cell_type": "code",
   "execution_count": 9,
   "metadata": {},
   "outputs": [
    {
     "name": "stdout",
     "output_type": "stream",
     "text": [
      "[840.7542705535889, 354.25329208374023, 515.2912139892578, 580.2202224731445, 1825.2277374267578, 398.64110946655273, 526.221513748169, 970.677375793457, 613.0900382995605, 481.4774990081787, 2079.2298316955566, 795.0410842895508, 605.2513122558594, 931.7138195037842, 1804.4800758361816, 760.9338760375977, 1679.6214580535889, 204.1616439819336, 959.2616558074951, 1641.2789821624756, 609.29274559021, 296.9233989715576, 1.9946098327636719, 548.3837127685547, 125.76508522033691, 3906.28981590271, 361.0689640045166, 1293.5941219329834, 608.7679862976074, 27.292728424072266]\n",
      "[479.1150093078613, 997.3680973052979, 1361.0303401947021, 4034.092903137207, 2241.5478229522705, 2370.3935146331787, 174.01576042175293, 8539.790391921997, 104.95662689208984, 3480.649471282959, 1345.987319946289, 2014.8260593414307, 79.69450950622559, 26662.943363189697, 687.8619194030762, 216.60375595092773, 3792.1273708343506, 694.4899559020996, 10851.716756820679, 1983.9987754821777, 1095.6017971038818, 4588.551998138428, 1579.3025493621826, 163.9420986175537, 3933.131456375122, 2489.755868911743, 4202.034711837769, 3796.7586517333984, 166.45288467407227, 381.07824325561523]\n"
     ]
    },
    {
     "data": {
      "text/plain": [
       "TtestResult(statistic=-2.4361337928252538, pvalue=0.010610421538960833, df=29)"
      ]
     },
     "execution_count": 9,
     "metadata": {},
     "output_type": "execute_result"
    }
   ],
   "source": [
    "ga_time_to_complete = [np.sum(df['cycle_time(ms)']) for df in ga_df_lst]\n",
    "aco_time_to_complete = [np.sum(df['cycle_time(ms)']) for df in aco_df_lst]\n",
    "\n",
    "print(ga_time_to_complete)\n",
    "print(aco_time_to_complete)\n",
    "\n",
    "stats.ttest_rel(ga_time_to_complete, aco_time_to_complete, alternative='less')"
   ]
  },
  {
   "cell_type": "code",
   "execution_count": null,
   "metadata": {},
   "outputs": [],
   "source": []
  }
 ],
 "metadata": {
  "kernelspec": {
   "display_name": "venv",
   "language": "python",
   "name": "python3"
  },
  "language_info": {
   "codemirror_mode": {
    "name": "ipython",
    "version": 3
   },
   "file_extension": ".py",
   "mimetype": "text/x-python",
   "name": "python",
   "nbconvert_exporter": "python",
   "pygments_lexer": "ipython3",
   "version": "3.11.5"
  }
 },
 "nbformat": 4,
 "nbformat_minor": 2
}

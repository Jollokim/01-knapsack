{
 "cells": [
  {
   "cell_type": "markdown",
   "metadata": {},
   "source": [
    "# Paired T test of experimental time and combinations"
   ]
  },
  {
   "cell_type": "markdown",
   "metadata": {},
   "source": [
    "### Imports"
   ]
  },
  {
   "cell_type": "code",
   "execution_count": 5,
   "metadata": {},
   "outputs": [],
   "source": [
    "import numpy as np\n",
    "import pandas as pd\n",
    "import scipy.stats as stats\n",
    "import os"
   ]
  },
  {
   "cell_type": "markdown",
   "metadata": {},
   "source": [
    "### Loading problems"
   ]
  },
  {
   "cell_type": "code",
   "execution_count": 3,
   "metadata": {},
   "outputs": [
    {
     "name": "stdout",
     "output_type": "stream",
     "text": [
      "30\n",
      "30\n"
     ]
    }
   ],
   "source": [
    "def create_dfs_for_run(dir: str) -> list[pd.DataFrame]:\n",
    "    df_lst = []\n",
    "\n",
    "    for run in os.listdir(dir):\n",
    "        df = pd.read_csv(f'{dir}\\\\{run}\\\\result.csv')\n",
    "        df = df[df.columns][1:]\n",
    "        \n",
    "        df_lst.append(df)\n",
    "\n",
    "    return df_lst\n",
    "\n",
    "in_dir_ga = 'results\\p07_ga_r30'\n",
    "in_dir_aco = 'results\\p07_aco_r30'\n",
    "\n",
    "ga_df_lst = create_dfs_for_run(in_dir_ga)\n",
    "aco_df_lst = create_dfs_for_run(in_dir_aco)\n",
    "\n",
    "print(len(ga_df_lst))\n",
    "print(len(aco_df_lst))\n"
   ]
  },
  {
   "cell_type": "markdown",
   "metadata": {},
   "source": [
    "### Combinations T-testing (ACO uses less number of combinations)"
   ]
  },
  {
   "cell_type": "code",
   "execution_count": 8,
   "metadata": {},
   "outputs": [
    {
     "name": "stdout",
     "output_type": "stream",
     "text": [
      "[17848, 8016, 12000, 10304, 32648, 8952, 11048, 21392, 13864, 10336, 44904, 16544, 13168, 22120, 39168, 16432, 37080, 5104, 20976, 35960, 14200, 6344, 40, 12416, 2552, 80000, 8280, 28296, 13440, 472]\n",
      "[1104, 1832, 3080, 8536, 4776, 5168, 400, 19184, 248, 7576, 3048, 4496, 192, 59280, 1592, 512, 7504, 1544, 24352, 4368, 2472, 10240, 3472, 384, 7136, 5496, 8752, 8424, 368, 752]\n"
     ]
    },
    {
     "data": {
      "text/plain": [
       "TtestResult(statistic=-3.3996436995021275, pvalue=0.0009911726424506092, df=29)"
      ]
     },
     "execution_count": 8,
     "metadata": {},
     "output_type": "execute_result"
    }
   ],
   "source": [
    "population_size = 8\n",
    "\n",
    "ga_n_comb = [population_size*len(df) for df in ga_df_lst]\n",
    "aco_n_comb = [population_size*len(df) for df in aco_df_lst]\n",
    "\n",
    "print(ga_n_comb)\n",
    "print(aco_n_comb)\n",
    "\n",
    "stats.ttest_rel(aco_n_comb, ga_n_comb, alternative='less')"
   ]
  },
  {
   "cell_type": "markdown",
   "metadata": {},
   "source": [
    "### Time to complete (GA faster than ACO to complete)"
   ]
  },
  {
   "cell_type": "code",
   "execution_count": null,
   "metadata": {},
   "outputs": [],
   "source": []
  }
 ],
 "metadata": {
  "kernelspec": {
   "display_name": "venv",
   "language": "python",
   "name": "python3"
  },
  "language_info": {
   "codemirror_mode": {
    "name": "ipython",
    "version": 3
   },
   "file_extension": ".py",
   "mimetype": "text/x-python",
   "name": "python",
   "nbconvert_exporter": "python",
   "pygments_lexer": "ipython3",
   "version": "3.11.5"
  }
 },
 "nbformat": 4,
 "nbformat_minor": 2
}

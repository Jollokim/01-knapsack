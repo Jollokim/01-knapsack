{
 "cells": [
  {
   "cell_type": "markdown",
   "metadata": {},
   "source": [
    "# Analyze multi run"
   ]
  },
  {
   "cell_type": "markdown",
   "metadata": {},
   "source": [
    "### Imports"
   ]
  },
  {
   "cell_type": "code",
   "execution_count": 17,
   "metadata": {},
   "outputs": [],
   "source": [
    "import pandas as pd\n",
    "import os\n",
    "import numpy as np"
   ]
  },
  {
   "cell_type": "markdown",
   "metadata": {},
   "source": [
    "### Read and create dataframes"
   ]
  },
  {
   "cell_type": "code",
   "execution_count": 18,
   "metadata": {},
   "outputs": [],
   "source": [
    "def create_dfs_for_run(dir: str) -> list[pd.DataFrame]:\n",
    "    df_lst = []\n",
    "\n",
    "    for run in os.listdir(dir):\n",
    "        df = pd.read_csv(f'{dir}\\\\{run}\\\\result.csv')\n",
    "        df = df[df.columns][1:]\n",
    "        \n",
    "        df_lst.append(df)\n",
    "\n",
    "    return df_lst\n",
    "\n",
    "in_dir = 'results\\p07_aco_r30'\n",
    "\n",
    "run_df_lst = create_dfs_for_run(in_dir)\n",
    "concat_df = pd.concat([df for df in run_df_lst])\n",
    "\n"
   ]
  },
  {
   "cell_type": "markdown",
   "metadata": {},
   "source": [
    "### Concat describe"
   ]
  },
  {
   "cell_type": "code",
   "execution_count": 19,
   "metadata": {},
   "outputs": [
    {
     "name": "stdout",
     "output_type": "stream",
     "text": [
      "         Unnamed: 0          best           avg  cycle_time(ms)\n",
      "count  25786.000000  25786.000000  25786.000000    25786.000000\n",
      "mean    1555.333863   1424.153184   1365.410785        3.665160\n",
      "std     1873.185935     17.518420     16.668361        1.368702\n",
      "min        1.000000   1326.000000   1297.500000        1.538754\n",
      "25%      281.000000   1414.000000   1353.875000        3.020287\n",
      "50%      723.500000   1427.000000   1365.375000        3.482223\n",
      "75%     2135.750000   1437.000000   1376.875000        4.016161\n",
      "max     7410.000000   1458.000000   1424.000000       49.059391\n"
     ]
    }
   ],
   "source": [
    "print(concat_df.describe())"
   ]
  },
  {
   "cell_type": "markdown",
   "metadata": {},
   "source": [
    "### Cycles to complete"
   ]
  },
  {
   "cell_type": "code",
   "execution_count": 20,
   "metadata": {},
   "outputs": [
    {
     "name": "stdout",
     "output_type": "stream",
     "text": [
      "(859.5333333333333, 1390.7068402634525, 7410)\n"
     ]
    }
   ],
   "source": [
    "def mean_std_cycles_to_complete(df_lst: list[pd.DataFrame]):\n",
    "    run_cycles = [len(df) for df in df_lst]\n",
    "\n",
    "    \n",
    "\n",
    "    mean = np.mean(run_cycles)\n",
    "    std = np.std(run_cycles)\n",
    "    mx = np.max(run_cycles)\n",
    "\n",
    "    return mean, std, mx\n",
    "\n",
    "print(mean_std_cycles_to_complete(run_df_lst))"
   ]
  },
  {
   "cell_type": "code",
   "execution_count": 21,
   "metadata": {},
   "outputs": [
    {
     "name": "stdout",
     "output_type": "stream",
     "text": [
      "138\n",
      "229\n",
      "385\n",
      "1067\n",
      "597\n",
      "646\n",
      "50\n",
      "2398\n",
      "31\n",
      "947\n",
      "381\n",
      "562\n",
      "24\n",
      "7410\n",
      "199\n",
      "64\n",
      "938\n",
      "193\n",
      "3044\n",
      "546\n",
      "309\n",
      "1280\n",
      "434\n",
      "48\n",
      "892\n",
      "687\n",
      "1094\n",
      "1053\n",
      "46\n",
      "94\n"
     ]
    }
   ],
   "source": [
    "for df in run_df_lst:\n",
    "    print(len(df))"
   ]
  },
  {
   "cell_type": "markdown",
   "metadata": {},
   "source": []
  }
 ],
 "metadata": {
  "kernelspec": {
   "display_name": "venv",
   "language": "python",
   "name": "python3"
  },
  "language_info": {
   "codemirror_mode": {
    "name": "ipython",
    "version": 3
   },
   "file_extension": ".py",
   "mimetype": "text/x-python",
   "name": "python",
   "nbconvert_exporter": "python",
   "pygments_lexer": "ipython3",
   "version": "3.11.5"
  }
 },
 "nbformat": 4,
 "nbformat_minor": 2
}

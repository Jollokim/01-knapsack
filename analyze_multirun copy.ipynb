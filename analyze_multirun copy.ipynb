{
 "cells": [
  {
   "cell_type": "markdown",
   "metadata": {},
   "source": [
    "# Analyze multi run"
   ]
  },
  {
   "cell_type": "markdown",
   "metadata": {},
   "source": [
    "### Imports"
   ]
  },
  {
   "cell_type": "code",
   "execution_count": 6,
   "metadata": {},
   "outputs": [],
   "source": [
    "import pandas as pd\n",
    "import os\n",
    "import numpy as np"
   ]
  },
  {
   "cell_type": "markdown",
   "metadata": {},
   "source": [
    "### Read and create dataframes"
   ]
  },
  {
   "cell_type": "code",
   "execution_count": 2,
   "metadata": {},
   "outputs": [],
   "source": [
    "def create_dfs_for_run(dir: str) -> list[pd.DataFrame]:\n",
    "    df_lst = []\n",
    "\n",
    "    for run in os.listdir(dir):\n",
    "        df = pd.read_csv(f'{dir}\\\\{run}\\\\result.csv')\n",
    "        df = df[df.columns][1:]\n",
    "        \n",
    "        df_lst.append(df)\n",
    "\n",
    "    return df_lst\n",
    "\n",
    "in_dir = 'results\\p01_aco_r30'\n",
    "\n",
    "run_df_lst = create_dfs_for_run(in_dir)\n",
    "concat_df = pd.concat([df for df in run_df_lst])\n",
    "\n"
   ]
  },
  {
   "cell_type": "markdown",
   "metadata": {},
   "source": [
    "### Concat describe"
   ]
  },
  {
   "cell_type": "code",
   "execution_count": 3,
   "metadata": {},
   "outputs": [
    {
     "name": "stdout",
     "output_type": "stream",
     "text": [
      "       Unnamed: 0        best         avg  cycle_time(ms)\n",
      "count   31.000000   31.000000   31.000000       31.000000\n",
      "mean     1.032258  308.193548  265.237903        1.821226\n",
      "std      0.179605    4.490133   14.764342        0.615928\n",
      "min      1.000000  284.000000  229.750000        0.986814\n",
      "25%      1.000000  309.000000  263.250000        1.490474\n",
      "50%      1.000000  309.000000  268.250000        1.996756\n",
      "75%      1.000000  309.000000  271.687500        2.029300\n",
      "max      2.000000  309.000000  292.125000        3.990650\n"
     ]
    }
   ],
   "source": [
    "print(concat_df.describe())"
   ]
  },
  {
   "cell_type": "markdown",
   "metadata": {},
   "source": [
    "### Cycles to complete"
   ]
  },
  {
   "cell_type": "code",
   "execution_count": 4,
   "metadata": {},
   "outputs": [
    {
     "name": "stdout",
     "output_type": "stream",
     "text": [
      "(1.0333333333333334, 0.17950549357115012)\n"
     ]
    }
   ],
   "source": [
    "def mean_std_cycles_to_complete(df_lst: list[pd.DataFrame]):\n",
    "    run_cycles = [len(df) for df in df_lst]\n",
    "\n",
    "    \n",
    "\n",
    "    mean = np.mean(run_cycles)\n",
    "    std = np.std(run_cycles)\n",
    "\n",
    "    return mean, std\n",
    "\n",
    "print(mean_std_cycles_to_complete(run_df_lst))"
   ]
  },
  {
   "cell_type": "markdown",
   "metadata": {},
   "source": []
  }
 ],
 "metadata": {
  "kernelspec": {
   "display_name": "venv",
   "language": "python",
   "name": "python3"
  },
  "language_info": {
   "codemirror_mode": {
    "name": "ipython",
    "version": 3
   },
   "file_extension": ".py",
   "mimetype": "text/x-python",
   "name": "python",
   "nbconvert_exporter": "python",
   "pygments_lexer": "ipython3",
   "version": "3.11.5"
  }
 },
 "nbformat": 4,
 "nbformat_minor": 2
}

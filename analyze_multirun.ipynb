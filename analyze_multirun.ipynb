{
 "cells": [
  {
   "cell_type": "markdown",
   "metadata": {},
   "source": [
    "# Analyze multi run"
   ]
  },
  {
   "cell_type": "markdown",
   "metadata": {},
   "source": [
    "### Imports"
   ]
  },
  {
   "cell_type": "code",
   "execution_count": 1,
   "metadata": {},
   "outputs": [],
   "source": [
    "import pandas as pd\n",
    "import os\n",
    "import numpy as np"
   ]
  },
  {
   "cell_type": "markdown",
   "metadata": {},
   "source": [
    "### Read and create dataframes"
   ]
  },
  {
   "cell_type": "code",
   "execution_count": 3,
   "metadata": {},
   "outputs": [],
   "source": [
    "def create_dfs_for_run(dir: str) -> list[pd.DataFrame]:\n",
    "    df_lst = []\n",
    "\n",
    "    for run in os.listdir(dir):\n",
    "        df = pd.read_csv(f'{dir}\\\\{run}\\\\result.csv')\n",
    "        df = df[df.columns][1:]\n",
    "        \n",
    "        df_lst.append(df)\n",
    "\n",
    "    return df_lst\n",
    "\n",
    "in_dir = 'results\\p01_ga_r30'\n",
    "\n",
    "run_df_lst = create_dfs_for_run(in_dir)\n",
    "concat_df = pd.concat([df for df in run_df_lst])\n",
    "\n"
   ]
  },
  {
   "cell_type": "markdown",
   "metadata": {},
   "source": [
    "### Concat describe"
   ]
  },
  {
   "cell_type": "code",
   "execution_count": 4,
   "metadata": {},
   "outputs": [
    {
     "name": "stdout",
     "output_type": "stream",
     "text": [
      "        Unnamed: 0         best          avg  cycle_time(ms)\n",
      "count  3375.000000  3375.000000  3375.000000     3375.000000\n",
      "mean    119.579259   279.205630   201.679852        0.452223\n",
      "std     132.464788    10.004582    18.542700        0.584015\n",
      "min       1.000000   208.000000   140.250000        0.000000\n",
      "25%      33.000000   277.000000   189.000000        0.000000\n",
      "50%      78.000000   284.000000   201.750000        0.000000\n",
      "75%     144.000000   284.000000   214.562500        0.997305\n",
      "max     629.000000   309.000000   258.125000        6.558895\n"
     ]
    }
   ],
   "source": [
    "print(concat_df.describe())"
   ]
  },
  {
   "cell_type": "markdown",
   "metadata": {},
   "source": [
    "### Cycles to complete"
   ]
  },
  {
   "cell_type": "code",
   "execution_count": 6,
   "metadata": {},
   "outputs": [
    {
     "name": "stdout",
     "output_type": "stream",
     "text": [
      "(112.5, 118.89736470306369)\n"
     ]
    }
   ],
   "source": [
    "def mean_std_cycles_to_complete(df_lst: list[pd.DataFrame]):\n",
    "    run_cycles = [len(df) for df in df_lst]\n",
    "\n",
    "    mean = np.mean(run_cycles)\n",
    "    std = np.std(run_cycles)\n",
    "\n",
    "    return mean, std\n",
    "\n",
    "print(mean_std_cycles_to_complete(run_df_lst))"
   ]
  },
  {
   "cell_type": "markdown",
   "metadata": {},
   "source": []
  }
 ],
 "metadata": {
  "kernelspec": {
   "display_name": "venv",
   "language": "python",
   "name": "python3"
  },
  "language_info": {
   "codemirror_mode": {
    "name": "ipython",
    "version": 3
   },
   "file_extension": ".py",
   "mimetype": "text/x-python",
   "name": "python",
   "nbconvert_exporter": "python",
   "pygments_lexer": "ipython3",
   "version": "3.11.5"
  }
 },
 "nbformat": 4,
 "nbformat_minor": 2
}
